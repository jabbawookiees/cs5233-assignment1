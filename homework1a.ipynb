{
 "cells": [
  {
   "cell_type": "code",
   "execution_count": 1,
   "metadata": {
    "collapsed": false
   },
   "outputs": [],
   "source": [
    "import numpy.random\n",
    "from kendall import KendallSimulator, KendallServer, KendallEvent\n",
    "from kendall.queues import RandomServerQueue\n",
    "from kendall.spawners import ExponentialSpawner\n",
    "\n",
    "\n",
    "def average(list):\n",
    "    return sum(list) / float(len(list))\n",
    "\n",
    "\n",
    "class Crane(KendallServer):\n",
    "    def __init__(self, queue, id):\n",
    "        self.queue = queue\n",
    "        self.id = id\n",
    "        self.reset()\n",
    "\n",
    "    def assign(self, event, time):\n",
    "        self.event = event\n",
    "        self.start_time = time\n",
    "\n",
    "    def complete(self, event, time):\n",
    "        self.event = None\n",
    "        self.total_time += time - self.start_time\n",
    "        self.start_time = None\n",
    "\n",
    "    def reset(self):\n",
    "        self.event = None\n",
    "        self.start_time = None\n",
    "        self.total_time = 0.00\n",
    "\n",
    "\n",
    "class ShipUnloadingEvent(KendallEvent):\n",
    "    count = 0\n",
    "    last_spawn_time = 0.0\n",
    "    spawn_delays = []\n",
    "    processing_times = []\n",
    "    waiting_times = []\n",
    "\n",
    "    def __init__(self, *args, **kwargs):\n",
    "        super(ShipUnloadingEvent, self).__init__(*args, **kwargs)\n",
    "        ShipUnloadingEvent.count += 1\n",
    "        self.count = ShipUnloadingEvent.count\n",
    "        self._processing_time = numpy.random.uniform(0.0, 1.5)\n",
    "\n",
    "    def on_enqueue(self, queue, time):\n",
    "        self.enter_time = time\n",
    "        ShipUnloadingEvent.spawn_delays.append(time - ShipUnloadingEvent.last_spawn_time)\n",
    "        ShipUnloadingEvent.processing_times.append(self._processing_time)\n",
    "        ShipUnloadingEvent.last_spawn_time = time\n",
    "        # print \"Ship {} entered harbor at {}! Current queue: {}\".format(self.count, time, len(queue.queue))\n",
    "\n",
    "    def on_process(self, queue, time):\n",
    "        # print \"Ship {} berthed at {}!\".format(self.count, time)\n",
    "        pass\n",
    "\n",
    "    def on_finish(self, queue, time):\n",
    "        self.exit_time = time\n",
    "        ShipUnloadingEvent.waiting_times.append(self.exit_time - self.enter_time)\n",
    "        # print \"Ship {} left harbor at {}!\".format(self.count, time)\n",
    "\n",
    "    def processing_time(self, server):\n",
    "        return self._processing_time\n",
    "\n",
    "\n",
    "class Harbor(RandomServerQueue):\n",
    "    server_class = Crane\n",
    "\n",
    "\n",
    "class ShipSpawner(ExponentialSpawner):\n",
    "    pipe_event_class = ShipUnloadingEvent\n",
    "\n",
    "\n",
    "class HomeworkSimulator(KendallSimulator):\n",
    "    all_spawn_delays = []\n",
    "    all_processing_times = []\n",
    "    all_minimums = []\n",
    "    all_averages = []\n",
    "    all_maximums = []\n",
    "    all_cranes = [[], []]\n",
    "    all_delays = []\n",
    "\n",
    "    def create_queues(self):\n",
    "        self.ship_spawner = ShipSpawner(self, 1.25)\n",
    "        self.harbors = Harbor(self, server_count=2)\n",
    "\n",
    "        self.register_queue(\"Ship Spawner\", self.ship_spawner)\n",
    "        self.register_queue(\"Harbors\", self.harbors)\n",
    "        self.ship_spawner.pipe(self.harbors)\n",
    "\n",
    "    def reset(self):\n",
    "        super(HomeworkSimulator, self).reset()\n",
    "        self.ship_spawner.start()\n",
    "        ShipUnloadingEvent.count = 0\n",
    "        ShipUnloadingEvent.last_spawn_time = 0.0\n",
    "        ShipUnloadingEvent.spawn_delays = []\n",
    "        ShipUnloadingEvent.processing_times = []\n",
    "        ShipUnloadingEvent.waiting_times = []\n",
    "\n",
    "    def analyze(self):\n",
    "        minimum = min(ShipUnloadingEvent.waiting_times)\n",
    "        average = sum(ShipUnloadingEvent.waiting_times) / len(ShipUnloadingEvent.waiting_times)\n",
    "        maximum = max(ShipUnloadingEvent.waiting_times)\n",
    "        # print \"Minimum:\", minimum\n",
    "        # print \"Average:\", average\n",
    "        # print \"Maximum:\", maximum\n",
    "        for num, crane in enumerate(self.harbors.servers):\n",
    "            if crane.start_time is not None:\n",
    "                crane.complete(crane.event, 100.0)\n",
    "            util = crane.total_time / 100.00\n",
    "            # print \"Utilization of Crane {}:\", util\n",
    "            HomeworkSimulator.all_cranes[num].append(util)\n",
    "        delay = len([x for x in ShipUnloadingEvent.waiting_times if x >= 2.00]) / float(len(ShipUnloadingEvent.waiting_times))\n",
    "        # print \"Percent over 2 days:\", delay\n",
    "        HomeworkSimulator.all_spawn_delays.extend(ShipUnloadingEvent.spawn_delays)\n",
    "        HomeworkSimulator.all_processing_times.extend(ShipUnloadingEvent.processing_times)\n",
    "        HomeworkSimulator.all_minimums.append(minimum)\n",
    "        HomeworkSimulator.all_maximums.append(maximum)\n",
    "        HomeworkSimulator.all_averages.append(average)\n",
    "        HomeworkSimulator.all_delays.append(delay)\n",
    "\n",
    "sim = HomeworkSimulator(100)\n",
    "for x in xrange(1, 1000):\n",
    "    processing_times = []\n",
    "    sim.reset()\n",
    "    sim.run()\n",
    "    sim.analyze()\n"
   ]
  },
  {
   "cell_type": "code",
   "execution_count": 2,
   "metadata": {
    "collapsed": true
   },
   "outputs": [],
   "source": [
    "import matplotlib.pyplot as plt"
   ]
  },
  {
   "cell_type": "code",
   "execution_count": 3,
   "metadata": {
    "collapsed": false
   },
   "outputs": [
    {
     "data": {
      "image/png": "[encoded data removed]",
      "text/plain": [
       "<matplotlib.figure.Figure at 0x7f913cdc9e90>"
      ]
     },
     "metadata": {},
     "output_type": "display_data"
    },
    {
     "name": "stdout",
     "output_type": "stream",
     "text": [
      "Average processing time: 0.748535939558\n"
     ]
    }
   ],
   "source": [
    "plt.hist(HomeworkSimulator.all_processing_times, bins='auto', edgecolor=\"blue\")\n",
    "plt.title(\"Processing times\")\n",
    "plt.show()\n",
    "\n",
    "print \"Average processing time:\", average(HomeworkSimulator.all_processing_times)"
   ]
  },
  {
   "cell_type": "code",
   "execution_count": 4,
   "metadata": {
    "collapsed": false
   },
   "outputs": [
    {
     "data": {
      "image/png": "[encoded data removed]",
      "text/plain": [
       "<matplotlib.figure.Figure at 0x7f91395fb9d0>"
      ]
     },
     "metadata": {},
     "output_type": "display_data"
    },
    {
     "name": "stdout",
     "output_type": "stream",
     "text": [
      "Average time between ships: 1.23622770569\n"
     ]
    }
   ],
   "source": [
    "plt.hist(HomeworkSimulator.all_spawn_delays, bins='auto', edgecolor=\"blue\")\n",
    "plt.title(\"Time between ships\")\n",
    "plt.show()\n",
    "\n",
    "print \"Average time between ships:\", average(HomeworkSimulator.all_spawn_delays)"
   ]
  },
  {
   "cell_type": "code",
   "execution_count": 5,
   "metadata": {
    "collapsed": false
   },
   "outputs": [
    {
     "data": {
      "image/png": "[encoded data removed]",
      "text/plain": [
       "<matplotlib.figure.Figure at 0x7f91394f2590>"
      ]
     },
     "metadata": {},
     "output_type": "display_data"
    },
    {
     "name": "stdout",
     "output_type": "stream",
     "text": [
      "Average Minimum: 0.0207323189014\n"
     ]
    }
   ],
   "source": [
    "plt.hist(HomeworkSimulator.all_minimums, bins='auto', edgecolor=\"blue\")\n",
    "plt.title(\"Minimum processing time\")\n",
    "plt.show()\n",
    "\n",
    "print \"Average Minimum:\", average(HomeworkSimulator.all_minimums)"
   ]
  },
  {
   "cell_type": "code",
   "execution_count": 6,
   "metadata": {
    "collapsed": false
   },
   "outputs": [
    {
     "data": {
      "image/png": "[encoded data removed]",
      "text/plain": [
       "<matplotlib.figure.Figure at 0x7f913901fa10>"
      ]
     },
     "metadata": {},
     "output_type": "display_data"
    },
    {
     "name": "stdout",
     "output_type": "stream",
     "text": [
      "Mean Average: 0.799391587009\n"
     ]
    }
   ],
   "source": [
    "plt.hist(HomeworkSimulator.all_averages, bins='auto', edgecolor=\"blue\")\n",
    "plt.title(\"Average processing time\")\n",
    "plt.show()\n",
    "\n",
    "print \"Mean Average:\", average(HomeworkSimulator.all_averages)"
   ]
  },
  {
   "cell_type": "code",
   "execution_count": 7,
   "metadata": {
    "collapsed": false
   },
   "outputs": [
    {
     "data": {
      "image/png": "[encoded data removed]",
      "text/plain": [
       "<matplotlib.figure.Figure at 0x7f9138f75310>"
      ]
     },
     "metadata": {},
     "output_type": "display_data"
    },
    {
     "name": "stdout",
     "output_type": "stream",
     "text": [
      "Mean Maximum: 1.92154257069\n"
     ]
    }
   ],
   "source": [
    "plt.hist(HomeworkSimulator.all_maximums, bins='auto', edgecolor=\"blue\")\n",
    "plt.title(\"Maximum processing time\")\n",
    "plt.show()\n",
    "\n",
    "print \"Mean Maximum:\", average(HomeworkSimulator.all_maximums)"
   ]
  },
  {
   "cell_type": "code",
   "execution_count": 8,
   "metadata": {
    "collapsed": false
   },
   "outputs": [
    {
     "data": {
      "image/png": "[encoded data removed]",
      "text/plain": [
       "<matplotlib.figure.Figure at 0x7f9138e9c310>"
      ]
     },
     "metadata": {},
     "output_type": "display_data"
    },
    {
     "name": "stdout",
     "output_type": "stream",
     "text": [
      "Mean Percentage Delayed: 0.00766633894508\n"
     ]
    }
   ],
   "source": [
    "plt.hist(HomeworkSimulator.all_delays, bins='auto', edgecolor=\"blue\")\n",
    "plt.title(\"Percentage of ships delayed over two days\")\n",
    "plt.show()\n",
    "\n",
    "print \"Mean Percentage Delayed:\", average(HomeworkSimulator.all_delays)"
   ]
  },
  {
   "cell_type": "code",
   "execution_count": 9,
   "metadata": {
    "collapsed": false
   },
   "outputs": [
    {
     "data": {
      "image/png": "[encoded data removed]",
      "text/plain": [
       "<matplotlib.figure.Figure at 0x7f9138c2e290>"
      ]
     },
     "metadata": {},
     "output_type": "display_data"
    },
    {
     "name": "stdout",
     "output_type": "stream",
     "text": [
      "Mean Utilization of Crane 1: 0.298517358766\n"
     ]
    }
   ],
   "source": [
    "plt.hist(HomeworkSimulator.all_cranes[0], bins='auto', edgecolor=\"blue\")\n",
    "plt.title(\"Utilization of Crane 1\")\n",
    "plt.show()\n",
    "\n",
    "print \"Mean Utilization of Crane 1:\", average(HomeworkSimulator.all_cranes[0])\n"
   ]
  },
  {
   "cell_type": "code",
   "execution_count": 10,
   "metadata": {
    "collapsed": false
   },
   "outputs": [
    {
     "data": {
      "image/png": "[encoded data removed]",
      "text/plain": [
       "<matplotlib.figure.Figure at 0x7f9138c2e550>"
      ]
     },
     "metadata": {},
     "output_type": "display_data"
    },
    {
     "name": "stdout",
     "output_type": "stream",
     "text": [
      "Mean Utilization of Crane 2: 0.296189836342\n"
     ]
    }
   ],
   "source": [
    "plt.hist(HomeworkSimulator.all_cranes[1], bins='auto', edgecolor=\"blue\")\n",
    "plt.title(\"Utilization of Crane 2\")\n",
    "plt.show()\n",
    "\n",
    "print \"Mean Utilization of Crane 2:\", average(HomeworkSimulator.all_cranes[1])"
   ]
  },
  {
   "cell_type": "code",
   "execution_count": null,
   "metadata": {
    "collapsed": true
   },
   "outputs": [],
   "source": []
  }
 ],
 "metadata": {
  "kernelspec": {
   "display_name": "Python 2",
   "language": "python",
   "name": "python2"
  },
  "language_info": {
   "codemirror_mode": {
    "name": "ipython",
    "version": 2
   },
   "file_extension": ".py",
   "mimetype": "text/x-python",
   "name": "python",
   "nbconvert_exporter": "python",
   "pygments_lexer": "ipython2",
   "version": "2.7.13"
  }
 },
 "nbformat": 4,
 "nbformat_minor": 2
}
