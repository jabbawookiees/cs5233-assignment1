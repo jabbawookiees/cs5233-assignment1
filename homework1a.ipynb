{
 "cells": [
  {
   "cell_type": "code",
   "execution_count": 1,
   "metadata": {
    "collapsed": false
   },
   "outputs": [],
   "source": [
    "from kendall.main import SISOStream"
   ]
  },
  {
   "cell_type": "code",
   "execution_count": 2,
   "metadata": {
    "collapsed": false
   },
   "outputs": [],
   "source": [
    "import numpy.random\n",
    "from kendall import Simulator, Entity, Stream, ExponentialSpawner, Queue, RandomSplitter, Worker, Merger, Dropper\n",
    "\n",
    "\n",
    "def average(list):\n",
    "    return sum(list) / float(len(list))\n",
    "\n",
    "def debug_entities(entity_list):\n",
    "    print \"Entity list: \", len(entity_list)\n",
    "    for e in entity_list[:10]:\n",
    "        print e.id\n",
    "        for evt in e.event_list:\n",
    "            if evt[2] == \"queue\":\n",
    "                print evt\n",
    "        # print e.event_table\n",
    "\n",
    "def time_between_events(entity_list, event1, event2):\n",
    "    times = []\n",
    "    for e in entity_list:\n",
    "        if e.event_table.get(event1) and e.event_table.get(event2):\n",
    "            time = e.event_table.get(event2) - e.event_table.get(event1)\n",
    "            times.append(time)\n",
    "    return times\n",
    "\n",
    "class CraneWorker(Worker):\n",
    "    def time_to_finish(self, entity, time):\n",
    "        return numpy.random.uniform(0.5, 1.5)\n",
    "\n",
    "    \n",
    "class ShipSpawner(ExponentialSpawner):\n",
    "    last_created = 0\n",
    "    spawn_delays = []\n",
    "\n",
    "    def start(self):\n",
    "        super(ShipSpawner, self).start()\n",
    "        ShipSpawner.last_created = 0\n",
    "        ShipSpawner.spawn_delays = []\n",
    "\n",
    "    def create_entity(self, time):\n",
    "        ShipSpawner.spawn_delays.append(time - ShipSpawner.last_created)\n",
    "        ShipSpawner.last_created = time\n",
    "        return Entity()\n",
    "    \n",
    "class HarborSimulator(Simulator):\n",
    "    all_counts = []\n",
    "    all_spawn_delays = []\n",
    "    all_processing_times = []\n",
    "    all_minimums = []\n",
    "    all_averages = []\n",
    "    all_maximums = []\n",
    "    all_cranes = [[], []]\n",
    "    all_delays = []\n",
    "    all_stuck = []\n",
    "\n",
    "    def __init__(self, *args, **kwargs):\n",
    "        super(HarborSimulator, self).__init__(*args, **kwargs)\n",
    "        Stream.simulator = self\n",
    "        self.create_streams()\n",
    "\n",
    "    def create_streams(self):\n",
    "        self.spawner = ShipSpawner(name=\"spawner\", spawn_time=1.25)\n",
    "        self.queue = Queue(name=\"queue\")\n",
    "        self.crane_assigner = RandomSplitter(name=\"splitter\")\n",
    "        self.craneA = CraneWorker(name=\"craneA\")\n",
    "        self.craneB = CraneWorker(name=\"craneB\")\n",
    "        self.merger = Merger(name=\"merger\")\n",
    "        self.dropper = Dropper(name=\"dropper\")\n",
    "        self.spawner.pipe(self.queue)\n",
    "        self.queue.pipe(self.crane_assigner)\n",
    "        self.crane_assigner.pipe(self.craneA)\n",
    "        self.crane_assigner.pipe(self.craneB)\n",
    "        self.craneA.pipe(self.merger)\n",
    "        self.craneB.pipe(self.merger)\n",
    "        self.merger.pipe(self.dropper)\n",
    "\n",
    "    def reset(self):\n",
    "        super(HarborSimulator, self).reset()\n",
    "        Entity.id = 0\n",
    "\n",
    "    def analyze(self):\n",
    "        # debug_entities(self.entity_list)\n",
    "        # return\n",
    "        def times_in_harbor(entity_list):\n",
    "            return time_between_events(entity_list, (\"spawner\", \"exit\"), (\"dropper\", \"enter\"))\n",
    "\n",
    "        def times_in_crane(entity_list):\n",
    "            return time_between_events(entity_list, (\"splitter\", \"exit\"), (\"merger\", \"enter\"))\n",
    "\n",
    "        def crane_times(entity_list, crane):\n",
    "            return time_between_events(entity_list, (crane, \"enter\"), (crane, \"exit\"))\n",
    "\n",
    "        def finishing_times(entity_list, crane):\n",
    "            times = []\n",
    "            for e in entity_list:\n",
    "                if e.event_table.get(\"dropper\", \"enter\"):\n",
    "                    times.append(e.event_table.get(\"dropper\", \"enter\"))\n",
    "            return times\n",
    "\n",
    "        waiting_times = times_in_harbor(self.entity_list)\n",
    "        processing_times = times_in_crane(self.entity_list)\n",
    "\n",
    "        minimum = min(waiting_times)\n",
    "        average = sum(waiting_times) / len(waiting_times)\n",
    "        maximum = max(waiting_times)\n",
    "\n",
    "        # print \"Minimum:\", minimum\n",
    "        # print \"Average:\", average\n",
    "        # print \"Maximum:\", maximum\n",
    "        for num, crane in [(0, 'craneA'), (1, 'craneB')]:\n",
    "            times = crane_times(self.entity_list, crane)\n",
    "            total_time = sum(times)\n",
    "            util = total_time / 100.00\n",
    "            # print \"Utilization of Crane {}: {}\".format(crane, util)\n",
    "            HarborSimulator.all_cranes[num].append(util)\n",
    "        delay = len([x for x in waiting_times if x >= 2.00]) / float(len(waiting_times))\n",
    "        # print \"Percent over 2 days:\", delay\n",
    "        HarborSimulator.all_counts.append(len(self.entity_list))\n",
    "        HarborSimulator.all_spawn_delays.extend(ShipSpawner.spawn_delays)\n",
    "        HarborSimulator.all_processing_times.extend(processing_times)\n",
    "        HarborSimulator.all_stuck.append(len(self.entity_list) - len(waiting_times))\n",
    "        HarborSimulator.all_minimums.append(minimum)\n",
    "        HarborSimulator.all_maximums.append(maximum)\n",
    "        HarborSimulator.all_averages.append(average)\n",
    "        HarborSimulator.all_delays.append(delay)\n",
    "\n",
    "sim = HarborSimulator(time_limit=100)\n",
    "for x in xrange(1, 1000):\n",
    "    processing_times = []\n",
    "    sim.reset()\n",
    "    sim.run()\n",
    "    sim.analyze()\n"
   ]
  },
  {
   "cell_type": "code",
   "execution_count": 3,
   "metadata": {
    "collapsed": true
   },
   "outputs": [],
   "source": [
    "import matplotlib.pyplot as plt"
   ]
  },
  {
   "cell_type": "code",
   "execution_count": 4,
   "metadata": {
    "collapsed": false,
    "scrolled": true
   },
   "outputs": [
    {
     "data": {
      "image/png": "[encoded data removed]",
      "text/plain": [
       "<matplotlib.figure.Figure at 0x7f9b55780710>"
      ]
     },
     "metadata": {},
     "output_type": "display_data"
    },
    {
     "name": "stdout",
     "output_type": "stream",
     "text": [
      "Average processing time: 0.996794890508\n"
     ]
    }
   ],
   "source": [
    "plt.hist(HarborSimulator.all_processing_times, bins='auto', edgecolor=\"blue\")\n",
    "plt.title(\"Processing times\")\n",
    "plt.show()\n",
    "\n",
    "print \"Average processing time:\", average(HarborSimulator.all_processing_times)"
   ]
  },
  {
   "cell_type": "code",
   "execution_count": 5,
   "metadata": {
    "collapsed": false
   },
   "outputs": [
    {
     "data": {
      "image/png": "[encoded data removed]",
      "text/plain": [
       "<matplotlib.figure.Figure at 0x7f9b5211c450>"
      ]
     },
     "metadata": {},
     "output_type": "display_data"
    },
    {
     "name": "stdout",
     "output_type": "stream",
     "text": [
      "Average time between ships: 1.23817279295\n"
     ]
    }
   ],
   "source": [
    "plt.hist(HarborSimulator.all_spawn_delays, bins='auto', edgecolor=\"blue\")\n",
    "plt.title(\"Time between ships\")\n",
    "plt.show()\n",
    "\n",
    "print \"Average time between ships:\", average(HarborSimulator.all_spawn_delays)"
   ]
  },
  {
   "cell_type": "code",
   "execution_count": 6,
   "metadata": {
    "collapsed": false
   },
   "outputs": [
    {
     "data": {
      "image/png": "[encoded data removed]",
      "text/plain": [
       "<matplotlib.figure.Figure at 0x7f9b51f73350>"
      ]
     },
     "metadata": {},
     "output_type": "display_data"
    },
    {
     "name": "stdout",
     "output_type": "stream",
     "text": [
      "Average Minimum: 0.515572650564\n"
     ]
    }
   ],
   "source": [
    "plt.hist(HarborSimulator.all_minimums, bins='auto', edgecolor=\"blue\")\n",
    "plt.title(\"Minimum processing time\")\n",
    "plt.show()\n",
    "\n",
    "print \"Average Minimum:\", average(HarborSimulator.all_minimums)"
   ]
  },
  {
   "cell_type": "code",
   "execution_count": 7,
   "metadata": {
    "collapsed": false
   },
   "outputs": [
    {
     "data": {
      "image/png": "[encoded data removed]",
      "text/plain": [
       "<matplotlib.figure.Figure at 0x7f9b51c6ac90>"
      ]
     },
     "metadata": {},
     "output_type": "display_data"
    },
    {
     "name": "stdout",
     "output_type": "stream",
     "text": [
      "Mean Average: 1.10329607734\n"
     ]
    }
   ],
   "source": [
    "plt.hist(HarborSimulator.all_averages, bins='auto', edgecolor=\"blue\")\n",
    "plt.title(\"Average processing time\")\n",
    "plt.show()\n",
    "\n",
    "print \"Mean Average:\", average(HarborSimulator.all_averages)"
   ]
  },
  {
   "cell_type": "code",
   "execution_count": 8,
   "metadata": {
    "collapsed": false
   },
   "outputs": [
    {
     "data": {
      "image/png": "[encoded data removed]",
      "text/plain": [
       "<matplotlib.figure.Figure at 0x7f9b5197f110>"
      ]
     },
     "metadata": {},
     "output_type": "display_data"
    },
    {
     "name": "stdout",
     "output_type": "stream",
     "text": [
      "Mean Maximum: 2.31927256091\n"
     ]
    }
   ],
   "source": [
    "plt.hist(HarborSimulator.all_maximums, bins='auto', edgecolor=\"blue\")\n",
    "plt.title(\"Maximum processing time\")\n",
    "plt.show()\n",
    "\n",
    "print \"Mean Maximum:\", average(HarborSimulator.all_maximums)"
   ]
  },
  {
   "cell_type": "code",
   "execution_count": 9,
   "metadata": {
    "collapsed": false
   },
   "outputs": [
    {
     "data": {
      "image/png": "[encoded data removed]",
      "text/plain": [
       "<matplotlib.figure.Figure at 0x7f9b5184d410>"
      ]
     },
     "metadata": {},
     "output_type": "display_data"
    },
    {
     "name": "stdout",
     "output_type": "stream",
     "text": [
      "Mean Percentage Delayed: 0.030606209368\n"
     ]
    }
   ],
   "source": [
    "plt.hist(HarborSimulator.all_delays, bins='auto', edgecolor=\"blue\")\n",
    "plt.title(\"Percentage of ships delayed over two days\")\n",
    "plt.show()\n",
    "\n",
    "print \"Mean Percentage Delayed:\", average(HarborSimulator.all_delays)"
   ]
  },
  {
   "cell_type": "code",
   "execution_count": 10,
   "metadata": {
    "collapsed": false
   },
   "outputs": [
    {
     "data": {
      "image/png": "[encoded data removed]",
      "text/plain": [
       "<matplotlib.figure.Figure at 0x7f9b5172c150>"
      ]
     },
     "metadata": {},
     "output_type": "display_data"
    },
    {
     "name": "stdout",
     "output_type": "stream",
     "text": [
      "Mean Utilization of Crane 1: 0.393305555736\n"
     ]
    }
   ],
   "source": [
    "plt.hist(HarborSimulator.all_cranes[0], bins='auto', edgecolor=\"blue\")\n",
    "plt.title(\"Utilization of Crane 1\")\n",
    "plt.show()\n",
    "\n",
    "print \"Mean Utilization of Crane 1:\", average(HarborSimulator.all_cranes[0])\n"
   ]
  },
  {
   "cell_type": "code",
   "execution_count": 11,
   "metadata": {
    "collapsed": false
   },
   "outputs": [
    {
     "data": {
      "image/png": "[encoded data removed]",
      "text/plain": [
       "<matplotlib.figure.Figure at 0x7f9b517056d0>"
      ]
     },
     "metadata": {},
     "output_type": "display_data"
    },
    {
     "name": "stdout",
     "output_type": "stream",
     "text": [
      "Mean Utilization of Crane 2: 0.393184570936\n"
     ]
    }
   ],
   "source": [
    "plt.hist(HarborSimulator.all_cranes[1], bins='auto', edgecolor=\"blue\")\n",
    "plt.title(\"Utilization of Crane 2\")\n",
    "plt.show()\n",
    "\n",
    "print \"Mean Utilization of Crane 2:\", average(HarborSimulator.all_cranes[1])"
   ]
  },
  {
   "cell_type": "code",
   "execution_count": 12,
   "metadata": {
    "collapsed": false
   },
   "outputs": [
    {
     "data": {
      "image/png": "[encoded data removed]",
      "text/plain": [
       "<matplotlib.figure.Figure at 0x7f9b51696110>"
      ]
     },
     "metadata": {},
     "output_type": "display_data"
    },
    {
     "name": "stdout",
     "output_type": "stream",
     "text": [
      "Mean ship counts: 79.7727727728\n"
     ]
    }
   ],
   "source": [
    "plt.hist(HarborSimulator.all_counts, bins='auto', edgecolor=\"blue\")\n",
    "plt.title(\"Ship counts\")\n",
    "plt.show()\n",
    "\n",
    "print \"Mean ship counts:\", average(HarborSimulator.all_counts)"
   ]
  },
  {
   "cell_type": "code",
   "execution_count": 13,
   "metadata": {
    "collapsed": false
   },
   "outputs": [
    {
     "data": {
      "image/png": "[encoded data removed]",
      "text/plain": [
       "<matplotlib.figure.Figure at 0x7f9b519c2d10>"
      ]
     },
     "metadata": {},
     "output_type": "display_data"
    },
    {
     "name": "stdout",
     "output_type": "stream",
     "text": [
      "Mean Remaining ships: 0.870870870871\n"
     ]
    }
   ],
   "source": [
    "plt.hist(HarborSimulator.all_stuck, bins='auto', edgecolor=\"blue\")\n",
    "plt.title(\"Remaining ships per run\")\n",
    "plt.show()\n",
    "\n",
    "print \"Mean Remaining ships:\", average(HarborSimulator.all_stuck)"
   ]
  },
  {
   "cell_type": "code",
   "execution_count": null,
   "metadata": {
    "collapsed": false
   },
   "outputs": [],
   "source": []
  },
  {
   "cell_type": "code",
   "execution_count": null,
   "metadata": {
    "collapsed": true
   },
   "outputs": [],
   "source": []
  }
 ],
 "metadata": {
  "kernelspec": {
   "display_name": "Python 2",
   "language": "python",
   "name": "python2"
  },
  "language_info": {
   "codemirror_mode": {
    "name": "ipython",
    "version": 2
   },
   "file_extension": ".py",
   "mimetype": "text/x-python",
   "name": "python",
   "nbconvert_exporter": "python",
   "pygments_lexer": "ipython2",
   "version": "2.7.13"
  }
 },
 "nbformat": 4,
 "nbformat_minor": 2
}
