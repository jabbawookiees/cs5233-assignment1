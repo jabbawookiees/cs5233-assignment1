{
 "cells": [
  {
   "cell_type": "code",
   "execution_count": 1,
   "metadata": {
    "collapsed": false
   },
   "outputs": [],
   "source": [
    "import numpy.random\n",
    "import matplotlib.pyplot as plt\n",
    "from kendall import KendallSimulator, KendallServer, KendallEvent\n",
    "from kendall.queues import RandomServerQueue\n",
    "from kendall.spawners import ExponentialSpawner\n",
    "\n",
    "\n",
    "def average(list):\n",
    "    return sum(list) / float(len(list))\n",
    "\n",
    "\n",
    "class TelephoneLine(KendallServer):\n",
    "    def __init__(self, queue, id):\n",
    "        self.queue = queue\n",
    "        self.id = id\n",
    "        self.reset()\n",
    "\n",
    "    def assign(self, event, time):\n",
    "        self.event = event\n",
    "        self.start_time = time\n",
    "\n",
    "    def complete(self, event, time):\n",
    "        self.event = None\n",
    "        self.total_time += time - self.start_time\n",
    "        self.start_time = None\n",
    "\n",
    "    def reset(self):\n",
    "        self.event = None\n",
    "        self.start_time = None\n",
    "        self.total_time = 0.00\n",
    "\n",
    "\n",
    "class CallEvent(KendallEvent):\n",
    "    average_call_duration = 300.0\n",
    "    count = 0\n",
    "    dropped = 0\n",
    "    last_spawn_time = 0.0\n",
    "    spawn_delays = []\n",
    "    call_durations = []\n",
    "    all_calls = []\n",
    "\n",
    "    def __init__(self, *args, **kwargs):\n",
    "        super(CallEvent, self).__init__(*args, **kwargs)\n",
    "        CallEvent.count += 1\n",
    "        CallEvent.all_calls.append(self)\n",
    "        self.count = CallEvent.count\n",
    "        self._processing_time = numpy.random.exponential(CallEvent.average_call_duration)\n",
    "\n",
    "    def on_enqueue(self, queue, time):\n",
    "        self.enter_time = time\n",
    "        CallEvent.spawn_delays.append(time - CallEvent.last_spawn_time)\n",
    "        CallEvent.call_durations.append(self._processing_time)\n",
    "        CallEvent.last_spawn_time = time\n",
    "        # print \"Ship {} entered harbor at {}! Current queue: {}\".format(self.count, time, len(queue.queue))\n",
    "\n",
    "    def on_drop(self, queue, time):\n",
    "        CallEvent.dropped += 1\n",
    "        self.status = \"dropped\"\n",
    "        # print \"Call {} was dropped at {}!\".format(self.count, time)\n",
    "\n",
    "    def on_process(self, server, time):\n",
    "        # print \"Call {} was started at {}!\".format(self.count, time)\n",
    "        self.status = \"processed\"\n",
    "        pass\n",
    "\n",
    "    def on_finish(self, queue, time):\n",
    "        self.exit_time = time\n",
    "        # print \"Call {} was finished at {}!\".format(self.count, time)\n",
    "\n",
    "    def processing_time(self, server):\n",
    "        return self._processing_time\n",
    "\n",
    "\n",
    "class CallEventAtoB(CallEvent):\n",
    "    pass\n",
    "\n",
    "\n",
    "class CallEventBtoA(CallEvent):\n",
    "    pass\n",
    "\n",
    "\n",
    "class TelephoneSystem(RandomServerQueue):\n",
    "    server_class = TelephoneLine\n",
    "\n",
    "\n",
    "class CallSpawnerAtoB(ExponentialSpawner):\n",
    "    pipe_event_class = CallEventAtoB\n",
    "\n",
    "class CallSpawnerBtoA(ExponentialSpawner):\n",
    "    pipe_event_class = CallEventBtoA\n",
    "\n",
    "\n",
    "class AsymmetricTelephonySimulator(KendallSimulator):\n",
    "    def __init__(self, time_limit, a_to_b_lines, b_to_a_lines):\n",
    "        super(AsymmetricTelephonySimulator, self).__init__(time_limit)\n",
    "\n",
    "        self.city_a_spawner = CallSpawnerAtoB(self, 12.0)\n",
    "        self.city_b_spawner = CallSpawnerBtoA(self, 15.0)\n",
    "        self.a_to_b_system = TelephoneSystem(self, server_count=a_to_b_lines, max_queued=0)\n",
    "        self.b_to_a_system = TelephoneSystem(self, server_count=b_to_a_lines, max_queued=0)\n",
    "\n",
    "        self.register_queue(\"City A Spawner\", self.city_a_spawner)\n",
    "        self.register_queue(\"City B Spawner\", self.city_b_spawner)\n",
    "        self.register_queue(\"A to B System\", self.a_to_b_system)\n",
    "        self.register_queue(\"B to A System\", self.b_to_a_system)\n",
    "        self.city_a_spawner.pipe(self.a_to_b_system)\n",
    "        self.city_b_spawner.pipe(self.b_to_a_system)\n",
    "\n",
    "        self.all_calls = []\n",
    "        self.all_spawn_delays = []\n",
    "        self.all_call_durations = []\n",
    "        self.all_dropped_percentages = []\n",
    "        self.all_minimums = []\n",
    "        self.all_averages = []\n",
    "        self.all_maximums = []\n",
    "        self.all_a_to_b_utilizations = []\n",
    "        self.all_b_to_a_utilizations = []\n",
    "\n",
    "    def reset(self):\n",
    "        super(AsymmetricTelephonySimulator, self).reset()\n",
    "        self.city_a_spawner.start()\n",
    "        self.city_b_spawner.start()\n",
    "        CallEvent.count = 0\n",
    "        CallEvent.dropped = 0\n",
    "        CallEvent.last_spawn_time = 0.0\n",
    "        CallEvent.all_calls = []\n",
    "        CallEvent.spawn_delays = []\n",
    "        CallEvent.call_durations = []\n",
    "\n",
    "    def collect(self):\n",
    "        minimum = min(CallEvent.call_durations)\n",
    "        average_d = sum(CallEvent.call_durations) / len(CallEvent.call_durations)\n",
    "        maximum = max(CallEvent.call_durations)\n",
    "\n",
    "        self.all_calls.append(CallEvent.all_calls[:])\n",
    "        self.all_spawn_delays.extend(CallEvent.spawn_delays)\n",
    "        self.all_call_durations.extend(CallEvent.call_durations)\n",
    "        self.all_minimums.append(minimum)\n",
    "        self.all_maximums.append(maximum)\n",
    "        self.all_averages.append(average_d)\n",
    "        self.all_dropped_percentages.append(CallEvent.dropped / float(CallEvent.count))\n",
    "\n",
    "        a_to_b_utilization = [s.total_time / float(TIME_LIMIT) for s in self.a_to_b_system.servers]\n",
    "        b_to_a_utilization = [s.total_time / float(TIME_LIMIT) for s in self.b_to_a_system.servers]\n",
    "        self.all_a_to_b_utilizations.append(average(a_to_b_utilization))\n",
    "        self.all_b_to_a_utilizations.append(average(b_to_a_utilization))\n",
    "\n",
    "class SymmetricTelephonySimulator(KendallSimulator):\n",
    "    def __init__(self, time_limit, total_lines):\n",
    "        super(SymmetricTelephonySimulator, self).__init__(time_limit)\n",
    "\n",
    "        self.city_a_spawner = CallSpawnerAtoB(self, 12.0)\n",
    "        self.city_b_spawner = CallSpawnerBtoA(self, 15.0)\n",
    "        self.symmetric_system = TelephoneSystem(self, server_count=total_lines, max_queued=0)\n",
    "\n",
    "        self.register_queue(\"City A Spawner\", self.city_a_spawner)\n",
    "        self.register_queue(\"City B Spawner\", self.city_b_spawner)\n",
    "        self.register_queue(\"Symmetric System\", self.symmetric_system)\n",
    "        self.city_a_spawner.pipe(self.symmetric_system)\n",
    "        self.city_b_spawner.pipe(self.symmetric_system)\n",
    "\n",
    "        self.all_calls = []\n",
    "        self.all_spawn_delays = []\n",
    "        self.all_call_durations = []\n",
    "        self.all_dropped_percentages = []\n",
    "        self.all_minimums = []\n",
    "        self.all_averages = []\n",
    "        self.all_maximums = []\n",
    "        self.all_utilizations = []\n",
    "\n",
    "    def reset(self):\n",
    "        super(SymmetricTelephonySimulator, self).reset()\n",
    "        self.city_a_spawner.start()\n",
    "        self.city_b_spawner.start()\n",
    "        CallEvent.count = 0\n",
    "        CallEvent.dropped = 0\n",
    "        CallEvent.last_spawn_time = 0.0\n",
    "        CallEvent.all_calls = []\n",
    "        CallEvent.spawn_delays = []\n",
    "        CallEvent.call_durations = []\n",
    "\n",
    "    def collect(self):\n",
    "        minimum = min(CallEvent.call_durations)\n",
    "        average_d = sum(CallEvent.call_durations) / len(CallEvent.call_durations)\n",
    "        maximum = max(CallEvent.call_durations)\n",
    "\n",
    "        self.all_calls.append(CallEvent.all_calls[:])\n",
    "        self.all_spawn_delays.extend(CallEvent.spawn_delays)\n",
    "        self.all_call_durations.extend(CallEvent.call_durations)\n",
    "        self.all_minimums.append(minimum)\n",
    "        self.all_maximums.append(maximum)\n",
    "        self.all_averages.append(average_d)\n",
    "        self.all_dropped_percentages.append(CallEvent.dropped / float(CallEvent.count))\n",
    "\n",
    "        utilizations = [s.total_time / float(TIME_LIMIT) for s in self.symmetric_system.servers]\n",
    "        self.all_utilizations.append(average(utilizations))\n"
   ]
  },
  {
   "cell_type": "code",
   "execution_count": 2,
   "metadata": {
    "collapsed": false
   },
   "outputs": [],
   "source": [
    "def generic_output(sim):\n",
    "    plt.title(\"Number of calls made:\")\n",
    "    plt.hist([len(l) for l in sim.all_calls], bins='auto', edgecolor=\"blue\")\n",
    "    plt.show()\n",
    "\n",
    "    a_to_b_calls = [[x for x in l if isinstance(x, CallEventAtoB)] for l in sim.all_calls]\n",
    "    plt.title(\"Number of calls made from A to B:\")\n",
    "    plt.hist(map(len, a_to_b_calls), bins='auto', edgecolor=\"blue\")\n",
    "    plt.show()\n",
    "    print \"Average calls made from A to B:\", average(map(len, a_to_b_calls))\n",
    "\n",
    "    b_to_a_calls = [[x for x in l if isinstance(x, CallEventBtoA)] for l in sim.all_calls]\n",
    "    plt.title(\"Number of calls made from B to A:\")\n",
    "    plt.hist(map(len, b_to_a_calls), bins='auto', edgecolor=\"blue\")\n",
    "    plt.show()\n",
    "    print \"Average calls made from B to A:\", average(map(len, b_to_a_calls))\n",
    "\n",
    "    dropped_a_to_b_calls = [len([c for c in l if c.status == \"dropped\"]) for l in a_to_b_calls]\n",
    "    plt.title(\"Dropped calls from A to B:\")\n",
    "    plt.hist(dropped_a_to_b_calls, bins='auto', edgecolor=\"blue\")\n",
    "    plt.show()\n",
    "    print \"Average number of dropped calls from A to B:\", average(dropped_a_to_b_calls)\n",
    "\n",
    "    dropped_b_to_a_calls = [len([c for c in l if c.status == \"dropped\"]) for l in b_to_a_calls]\n",
    "    plt.title(\"Dropped calls from B to A:\")\n",
    "    plt.hist(dropped_b_to_a_calls, bins='auto', edgecolor=\"blue\")\n",
    "    plt.show()\n",
    "    print \"Average number of dropped calls B to A:\", average(dropped_b_to_a_calls)\n",
    "\n",
    "    \n",
    "def test_asymmetric(runs=1000, time_limit=3000, a_to_b=10, b_to_a=10):\n",
    "    sim = AsymmetricTelephonySimulator(time_limit, a_to_b, b_to_a)\n",
    "    for x in xrange(0, runs):\n",
    "        sim.reset()\n",
    "        sim.run()\n",
    "        sim.collect()\n",
    "\n",
    "    plt.title(\"Percent dropped calls with {} X to Y and {} Y to X lines\".format(a_to_b, b_to_a))\n",
    "    plt.hist(sim.all_dropped_percentages, range=[0.0, 1.0], bins='auto', edgecolor=\"blue\")\n",
    "    plt.show()\n",
    "\n",
    "    print \"Average call drop percentage:\", average(sim.all_dropped_percentages)\n",
    "\n",
    "    good_runs = [x for x in sim.all_dropped_percentages if x < 0.05]\n",
    "    print \"Percent call drop percentage below 5%: {}\".format(len(good_runs) / float(runs))\n",
    "\n",
    "    generic_output(sim)\n",
    "\n",
    "    plt.title(\"Average utilization of X to Y lines\")\n",
    "    plt.hist(sim.all_a_to_b_utilizations, range=[0.0, 1.0], bins='auto', edgecolor=\"blue\")\n",
    "    plt.show()\n",
    "\n",
    "    print \"Overall average utilization of X to Y lines:\", average(sim.all_a_to_b_utilizations)\n",
    "\n",
    "    plt.title(\"Average utilization of Y to X lines\")\n",
    "    plt.hist(sim.all_b_to_a_utilizations, range=[0.0, 1.0], bins='auto', edgecolor=\"blue\")\n",
    "    plt.show()\n",
    "\n",
    "    print \"Overall average utilization of Y to X lines:\", average(sim.all_b_to_a_utilizations)\n",
    "\n",
    "    \n",
    "def test_symmetric(runs=1000, time_limit=3000, total_lines=10):\n",
    "    sim = SymmetricTelephonySimulator(time_limit, total_lines)\n",
    "    for x in xrange(0, runs):\n",
    "        sim.reset()\n",
    "        sim.run()\n",
    "        sim.collect()\n",
    "\n",
    "    plt.title(\"Percent dropped calls with {} symmetric lines\".format(total_lines))\n",
    "    plt.hist(sim.all_dropped_percentages, range=[0.0, 1.0], bins='auto', edgecolor=\"blue\")\n",
    "    plt.show()\n",
    "\n",
    "    print \"Average call drop percentage:\", average(sim.all_dropped_percentages)\n",
    "\n",
    "    good_runs = [x for x in sim.all_dropped_percentages if x < 0.05]\n",
    "    print \"Percent call drop percentage below 5%: {}\".format(len(good_runs) / float(runs))\n",
    "\n",
    "    generic_output(sim)\n",
    "\n",
    "    plt.title(\"Average utilization of lines\")\n",
    "    plt.hist(sim.all_utilizations, range=[0.0, 1.0], bins='auto', edgecolor=\"blue\")\n",
    "    plt.show()\n",
    "\n",
    "    print \"Overall average utilization of lines:\", average(sim.all_utilizations)\n"
   ]
  },
  {
   "cell_type": "code",
   "execution_count": null,
   "metadata": {
    "collapsed": true
   },
   "outputs": [],
   "source": [
    "TIME_LIMIT = 30000\n",
    "RUN_COUNT = 500"
   ]
  },
  {
   "cell_type": "code",
   "execution_count": null,
   "metadata": {
    "collapsed": false,
    "scrolled": true
   },
   "outputs": [],
   "source": [
    "test_asymmetric(runs=RUN_COUNT, time_limit=TIME_LIMIT, a_to_b=10, b_to_a=10)"
   ]
  },
  {
   "cell_type": "code",
   "execution_count": null,
   "metadata": {
    "collapsed": false
   },
   "outputs": [],
   "source": [
    "test_asymmetric(runs=RUN_COUNT, time_limit=TIME_LIMIT, a_to_b=20, b_to_a=20)"
   ]
  },
  {
   "cell_type": "code",
   "execution_count": null,
   "metadata": {
    "collapsed": false
   },
   "outputs": [],
   "source": [
    "test_asymmetric(runs=RUN_COUNT, time_limit=TIME_LIMIT, a_to_b=25, b_to_a=25)"
   ]
  },
  {
   "cell_type": "code",
   "execution_count": null,
   "metadata": {
    "collapsed": false
   },
   "outputs": [],
   "source": [
    "test_asymmetric(runs=RUN_COUNT, time_limit=TIME_LIMIT, a_to_b=30, b_to_a=30)"
   ]
  },
  {
   "cell_type": "code",
   "execution_count": null,
   "metadata": {
    "collapsed": false
   },
   "outputs": [],
   "source": [
    "test_asymmetric(runs=RUN_COUNT, time_limit=TIME_LIMIT, a_to_b=31, b_to_a=31)"
   ]
  },
  {
   "cell_type": "code",
   "execution_count": null,
   "metadata": {
    "collapsed": false
   },
   "outputs": [],
   "source": [
    "test_asymmetric(runs=RUN_COUNT, time_limit=TIME_LIMIT, a_to_b=32, b_to_a=32)"
   ]
  },
  {
   "cell_type": "code",
   "execution_count": null,
   "metadata": {
    "collapsed": false
   },
   "outputs": [],
   "source": [
    "test_asymmetric(runs=RUN_COUNT, time_limit=TIME_LIMIT, a_to_b=33, b_to_a=33)"
   ]
  },
  {
   "cell_type": "code",
   "execution_count": null,
   "metadata": {
    "collapsed": false
   },
   "outputs": [],
   "source": [
    "test_asymmetric(runs=RUN_COUNT, time_limit=TIME_LIMIT, a_to_b=34, b_to_a=34)"
   ]
  },
  {
   "cell_type": "code",
   "execution_count": null,
   "metadata": {
    "collapsed": false
   },
   "outputs": [],
   "source": [
    "test_asymmetric(runs=RUN_COUNT, time_limit=TIME_LIMIT, a_to_b=35, b_to_a=35)"
   ]
  },
  {
   "cell_type": "code",
   "execution_count": null,
   "metadata": {
    "collapsed": false
   },
   "outputs": [],
   "source": [
    "test_asymmetric(runs=RUN_COUNT, time_limit=TIME_LIMIT, a_to_b=35, b_to_a=25)"
   ]
  },
  {
   "cell_type": "code",
   "execution_count": null,
   "metadata": {
    "collapsed": false
   },
   "outputs": [],
   "source": [
    "test_asymmetric(runs=RUN_COUNT, time_limit=TIME_LIMIT, a_to_b=35, b_to_a=28)"
   ]
  },
  {
   "cell_type": "code",
   "execution_count": null,
   "metadata": {
    "collapsed": false
   },
   "outputs": [],
   "source": [
    "test_asymmetric(runs=RUN_COUNT, time_limit=TIME_LIMIT, a_to_b=35, b_to_a=29)"
   ]
  },
  {
   "cell_type": "code",
   "execution_count": null,
   "metadata": {
    "collapsed": false
   },
   "outputs": [],
   "source": [
    "test_asymmetric(runs=RUN_COUNT, time_limit=TIME_LIMIT, a_to_b=35, b_to_a=30)"
   ]
  },
  {
   "cell_type": "code",
   "execution_count": null,
   "metadata": {
    "collapsed": false
   },
   "outputs": [],
   "source": [
    "test_asymmetric(runs=RUN_COUNT, time_limit=TIME_LIMIT, a_to_b=35, b_to_a=31)"
   ]
  },
  {
   "cell_type": "code",
   "execution_count": null,
   "metadata": {
    "collapsed": false
   },
   "outputs": [],
   "source": [
    "test_asymmetric(runs=RUN_COUNT, time_limit=TIME_LIMIT, a_to_b=35, b_to_a=32)"
   ]
  },
  {
   "cell_type": "code",
   "execution_count": null,
   "metadata": {
    "collapsed": false
   },
   "outputs": [],
   "source": [
    "test_symmetric(runs=RUN_COUNT, time_limit=TIME_LIMIT, total_lines=20)"
   ]
  },
  {
   "cell_type": "code",
   "execution_count": null,
   "metadata": {
    "collapsed": false
   },
   "outputs": [],
   "source": [
    "test_symmetric(runs=RUN_COUNT, time_limit=TIME_LIMIT, total_lines=40)"
   ]
  },
  {
   "cell_type": "code",
   "execution_count": null,
   "metadata": {
    "collapsed": false
   },
   "outputs": [],
   "source": [
    "test_symmetric(runs=RUN_COUNT, time_limit=TIME_LIMIT, total_lines=50)"
   ]
  },
  {
   "cell_type": "code",
   "execution_count": null,
   "metadata": {
    "collapsed": false
   },
   "outputs": [],
   "source": [
    "test_symmetric(runs=RUN_COUNT, time_limit=TIME_LIMIT, total_lines=55)"
   ]
  },
  {
   "cell_type": "code",
   "execution_count": null,
   "metadata": {
    "collapsed": false,
    "scrolled": false
   },
   "outputs": [],
   "source": [
    "test_symmetric(runs=RUN_COUNT, time_limit=TIME_LIMIT, total_lines=58)"
   ]
  },
  {
   "cell_type": "code",
   "execution_count": null,
   "metadata": {
    "collapsed": false
   },
   "outputs": [],
   "source": [
    "test_symmetric(runs=RUN_COUNT, time_limit=TIME_LIMIT, total_lines=59)"
   ]
  },
  {
   "cell_type": "code",
   "execution_count": null,
   "metadata": {
    "collapsed": false
   },
   "outputs": [],
   "source": [
    "test_symmetric(runs=RUN_COUNT, time_limit=TIME_LIMIT, total_lines=60)"
   ]
  },
  {
   "cell_type": "code",
   "execution_count": null,
   "metadata": {
    "collapsed": false
   },
   "outputs": [],
   "source": [
    "test_symmetric(runs=RUN_COUNT, time_limit=TIME_LIMIT, total_lines=51)"
   ]
  },
  {
   "cell_type": "code",
   "execution_count": null,
   "metadata": {
    "collapsed": false
   },
   "outputs": [],
   "source": [
    "test_asymmetric(runs=RUN_COUNT, time_limit=TIME_LIMIT, a_to_b=29, b_to_a=29)"
   ]
  },
  {
   "cell_type": "code",
   "execution_count": null,
   "metadata": {
    "collapsed": false
   },
   "outputs": [],
   "source": [
    "test_asymmetric(runs=RUN_COUNT, time_limit=TIME_LIMIT, a_to_b=31, b_to_a=27)"
   ]
  },
  {
   "cell_type": "code",
   "execution_count": null,
   "metadata": {
    "collapsed": true
   },
   "outputs": [],
   "source": []
  }
 ],
 "metadata": {
  "kernelspec": {
   "display_name": "Python 2",
   "language": "python",
   "name": "python2"
  },
  "language_info": {
   "codemirror_mode": {
    "name": "ipython",
    "version": 2
   },
   "file_extension": ".py",
   "mimetype": "text/x-python",
   "name": "python",
   "nbconvert_exporter": "python",
   "pygments_lexer": "ipython2",
   "version": "2.7.13"
  }
 },
 "nbformat": 4,
 "nbformat_minor": 2
}
